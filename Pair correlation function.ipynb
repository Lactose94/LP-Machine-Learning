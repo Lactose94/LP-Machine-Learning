{
 "cells": [
  {
   "cell_type": "markdown",
   "metadata": {},
   "source": [
    "# Pair Correlation function liquid Si"
   ]
  },
  {
   "cell_type": "code",
   "execution_count": 1,
   "metadata": {},
   "outputs": [],
   "source": [
    "import json\n",
    "\n",
    "import numpy as np\n",
    "from matplotlib import pyplot as plt\n",
    "\n",
    "from outcar_parser import Parser\n",
    "from configuration import Configuration\n",
    "import calibration"
   ]
  },
  {
   "cell_type": "code",
   "execution_count": 2,
   "metadata": {},
   "outputs": [
    {
     "name": "stdout",
     "output_type": "stream",
     "text": [
      "{\n",
      "    \"cutoff\": 4,\n",
      "    \"file_in\": \"OUTCAR.21\",\n",
      "    \"file_out\": \"test_data\",\n",
      "    \"kernel\": [\n",
      "        \"gaussian\",\n",
      "        6\n",
      "    ],\n",
      "    \"lambda\": 0.001,\n",
      "    \"nr_modi\": 10,\n",
      "    \"stepsize\": 1\n",
      "}\n"
     ]
    }
   ],
   "source": [
    "# load the simulation parameters\n",
    "with open('user_config.json', 'r') as u_conf:\n",
    "    user_conf = json.load(u_conf)\n",
    "\n",
    "user_conf['cutoff'] = 4\n",
    "user_conf['stepsize'] = 1\n",
    "print(json.dumps(user_conf, indent=4, sort_keys=True))\n",
    "(nc, ni, lattice_vecs, configurations) = calibration.load_data(user_conf)\n",
    "V = np.linalg.det(lattice_vecs)\n",
    "\n",
    "distances = []\n",
    "for alpha, config in enumerate(configurations):\n",
    "    config.init_nn(user_conf['cutoff'], lattice_vecs)\n",
    "    \n",
    "    distances.append(config.nndistances)\n"
   ]
  },
  {
   "cell_type": "code",
   "execution_count": 3,
   "metadata": {},
   "outputs": [],
   "source": [
    "dists = []\n",
    "for r in distances:\n",
    "    dists.append(r.flatten())\n",
    "        \n",
    "distances = np.array(dists)\n",
    "distances = distances[distances > 0]"
   ]
  },
  {
   "cell_type": "code",
   "execution_count": 4,
   "metadata": {},
   "outputs": [
    {
     "data": {
      "image/png": "[encoded data removed]",
      "text/plain": [
       "<Figure size 432x288 with 1 Axes>"
      ]
     },
     "metadata": {
      "needs_background": "light"
     },
     "output_type": "display_data"
    }
   ],
   "source": [
    "d = plt.hist(distances, bins=60)"
   ]
  },
  {
   "cell_type": "markdown",
   "metadata": {},
   "source": [
    "## Data obtained by ab initio force calculation"
   ]
  },
  {
   "cell_type": "code",
   "execution_count": 5,
   "metadata": {},
   "outputs": [
    {
     "data": {
      "image/png": "[encoded data removed]",
      "text/plain": [
       "<Figure size 432x288 with 1 Axes>"
      ]
     },
     "metadata": {
      "needs_background": "light"
     },
     "output_type": "display_data"
    }
   ],
   "source": [
    "counts, bins = np.histogram(distances, bins=90) \n",
    "dr = bins[1]-bins[0]\n",
    "# density in unitcell\n",
    "rho = 64 / V \n",
    "# divide by uniform particle density\n",
    "weights = 4 * np.pi * bins[:-1]**2 * dr * rho * 1000 * 64\n",
    "d = plt.hist(bins[:-1], bins, weights= counts / weights)\n",
    "plt.grid()"
   ]
  },
  {
   "cell_type": "markdown",
   "metadata": {},
   "source": [
    "## Machine-learned force calculation: Starting conditions from CONTCAR file"
   ]
  },
  {
   "cell_type": "code",
   "execution_count": 11,
   "metadata": {},
   "outputs": [
    {
     "data": {
      "image/png": "[encoded data removed]",
      "text/plain": [
       "<Figure size 432x288 with 1 Axes>"
      ]
     },
     "metadata": {
      "needs_background": "light"
     },
     "output_type": "display_data"
    }
   ],
   "source": [
    "# Pdf after the molecular dynamics of the CONTCAR data\n",
    "\n",
    "with open('test_data/nn_cont.out', 'r') as nn_dist_cont:\n",
    "    nn_cont = np.array(nn_dist_cont.readlines(), dtype=float)\n",
    "    \n",
    "V2 = 10.5848603138397**3\n",
    "counts, bins = np.histogram(nn_cont, bins=90) \n",
    "dr = bins[1]-bins[0]\n",
    "# density in unitcell\n",
    "rho = 64 / V2\n",
    "# divide by uniform particle density\n",
    "weights = 4 * np.pi * bins[:-1]**2 * dr * rho * 64 * 50\n",
    "d2 = plt.hist(bins[:-1], bins, weights= counts / weights)\n",
    "plt.grid()"
   ]
  },
  {
   "cell_type": "markdown",
   "metadata": {},
   "source": [
    "## Machine-learned force calculation: Random starting conditions"
   ]
  },
  {
   "cell_type": "code",
   "execution_count": 18,
   "metadata": {},
   "outputs": [
    {
     "data": {
      "image/png": "[encoded data removed]",
      "text/plain": [
       "<Figure size 1152x648 with 1 Axes>"
      ]
     },
     "metadata": {
      "needs_background": "light"
     },
     "output_type": "display_data"
    }
   ],
   "source": [
    "# Pdf after the molecular dynamics of the random data\n",
    "\n",
    "with open('test_data/nn_rand.out', 'r') as nn_dist_rand:\n",
    "    nn_rand = np.array(nn_dist_rand.readlines(), dtype=float)\n",
    "\n",
    "counts, bins = np.histogram(nn_rand, bins=90) \n",
    "dr = bins[1]-bins[0]\n",
    "# density in unitcell\n",
    "rho = 64 / V\n",
    "\n",
    "fig, ax = plt.subplots(figsize=(16, 9))\n",
    "\n",
    "# divide by uniform particle density\n",
    "weights = 4 * np.pi * bins[:-1]**2 * dr * rho * 50 * 64\n",
    "d2 = ax.hist(bins[:-1], bins, weights= counts / weights)\n",
    "ax.grid()\n",
    "start, end = ax.get_ylim()\n",
    "_ =ax.yaxis.set_ticks(np.arange(start, end, 1))"
   ]
  },
  {
   "cell_type": "code",
   "execution_count": null,
   "metadata": {},
   "outputs": [],
   "source": []
  }
 ],
 "metadata": {
  "jupytext": {
   "text_representation": {
    "extension": ".Rmd",
    "format_name": "rmarkdown",
    "format_version": "1.2",
    "jupytext_version": "1.4.2"
   }
  },
  "kernelspec": {
   "display_name": "Python 3",
   "language": "python",
   "name": "python3"
  },
  "language_info": {
   "codemirror_mode": {
    "name": "ipython",
    "version": 3
   },
   "file_extension": ".py",
   "mimetype": "text/x-python",
   "name": "python",
   "nbconvert_exporter": "python",
   "pygments_lexer": "ipython3",
   "version": "3.8.3"
  }
 },
 "nbformat": 4,
 "nbformat_minor": 4
}
