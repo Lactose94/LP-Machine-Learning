{
 "cells": [
  {
   "cell_type": "code",
   "execution_count": 20,
   "metadata": {},
   "outputs": [],
   "source": [
    "from math import sqrt\n",
    "\n",
    "with open('linear_quality.dat', 'r') as file_in:\n",
    "    data = file_in.read()\n",
    "    \n",
    "lines = data.split('\\n')\n",
    "lines = lines[1:-1]\n"
   ]
  },
  {
   "cell_type": "code",
   "execution_count": 32,
   "metadata": {},
   "outputs": [
    {
     "name": "stdout",
     "output_type": "stream",
     "text": [
      "7 & 6 &55.0 & 49.0 & 0.3 & 56.1 & 51.6 & 0.3\\\\\n",
      "7 & 8 &55.1 & 47.0 & 0.3 & 56.5 & 52.8 & 0.3\\\\\n",
      "7 & 10 &55.3 & 48.0 & 0.3 & 56.6 & 53.7 & 0.3\\\\\n",
      "7 & 12 &55.3 & 47.8 & 0.3 & 56.6 & 53.8 & 0.3\\\\\n",
      "7 & 14 &55.3 & 47.9 & 0.3 & 56.7 & 54.2 & 0.3\\\\\n",
      "10 & 6 &55.0 & 47.0 & 0.3 & 54.1 & 36.6 & 0.3\\\\\n",
      "10 & 8 &55.0 & 45.8 & 0.3 & 54.2 & 36.7 & 0.3\\\\\n",
      "10 & 10 &55.1 & 46.2 & 0.3 & 54.3 & 36.8 & 0.3\\\\\n",
      "10 & 12 &55.1 & 45.6 & 0.3 & 54.3 & 36.8 & 0.3\\\\\n",
      "10 & 14 &55.1 & 45.4 & 0.3 & 54.3 & 36.8 & 0.3\\\\\n",
      "20 & 6 &57.1 & 52.3 & 0.2 & 55.8 & 41.6 & 0.2\\\\\n",
      "20 & 8 &56.2 & 50.4 & 0.2 & 55.0 & 39.6 & 0.2\\\\\n",
      "20 & 10 &56.3 & 51.2 & 0.2 & 55.1 & 39.8 & 0.2\\\\\n",
      "20 & 12 &56.4 & 51.8 & 0.2 & 55.1 & 39.9 & 0.2\\\\\n",
      "20 & 14 &56.2 & 51.5 & 0.2 & 55.0 & 40.0 & 0.2\\\\\n",
      "40 & 6 &55.9 & 51.6 & 0.4 & 54.4 & 39.2 & 0.4\\\\\n",
      "40 & 8 &56.0 & 51.1 & 0.4 & 54.6 & 39.4 & 0.4\\\\\n",
      "40 & 10 &56.2 & 51.8 & 0.4 & 54.8 & 40.1 & 0.4\\\\\n",
      "40 & 12 &56.2 & 52.2 & 0.4 & 54.7 & 39.8 & 0.4\\\\\n",
      "40 & 14 &56.1 & 51.7 & 0.4 & 54.8 & 40.2 & 0.4\\\\\n"
     ]
    }
   ],
   "source": [
    " for line in lines:\n",
    "    values = line.split('\\t')\n",
    "    Nc = round(1000 / int(values[0]), 0)\n",
    "    Nq = int(values[1])\n",
    "    percents = list(map(lambda value: float(value), values[2:]))\n",
    "    percents[1] = sqrt(percents[1])\n",
    "    percents[4] = sqrt(percents[4])\n",
    "    percents = list(map(lambda value: f'{value * 100:3.1f}', percents))\n",
    "    line_out = f'{int(Nc)} & {Nq} &' + ' & '.join(percents) + '\\\\\\\\'\n",
    "    \n",
    "    print(line_out)"
   ]
  },
  {
   "cell_type": "code",
   "execution_count": null,
   "metadata": {},
   "outputs": [],
   "source": []
  }
 ],
 "metadata": {
  "kernelspec": {
   "display_name": "Python 3",
   "language": "python",
   "name": "python3"
  },
  "language_info": {
   "codemirror_mode": {
    "name": "ipython",
    "version": 3
   },
   "file_extension": ".py",
   "mimetype": "text/x-python",
   "name": "python",
   "nbconvert_exporter": "python",
   "pygments_lexer": "ipython3",
   "version": "3.8.3"
  }
 },
 "nbformat": 4,
 "nbformat_minor": 4
}
